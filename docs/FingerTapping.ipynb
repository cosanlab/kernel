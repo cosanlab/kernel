{
 "cells": [
  {
   "cell_type": "markdown",
   "id": "5b9d21be-9fe8-4c0c-88e9-f4e3b30d0296",
   "metadata": {},
   "source": [
    "# Analyze Finger Tapping Data"
   ]
  },
  {
   "cell_type": "code",
   "execution_count": 214,
   "id": "34e9644a-42f6-4c88-87e4-af33eab30bb0",
   "metadata": {},
   "outputs": [],
   "source": [
    "%matplotlib inline\n",
    "\n",
    "import os \n",
    "import glob\n",
    "import json\n",
    "import numpy as np\n",
    "import pandas as pd\n",
    "import matplotlib.pyplot as plt\n",
    "from matplotlib.patches import Patch\n",
    "import seaborn as sns\n",
    "from nltools.data import Brain_Data, Adjacency, Design_Matrix\n",
    "from nltools.file_reader import onsets_to_dm\n",
    "from nltools.mask import expand_mask, roi_to_brain\n",
    "from nltools.stats import regress\n",
    "from nilearn.plotting import plot_img_on_surf, plot_stat_map, plot_glass_brain, view_img_on_surf\n",
    "import nibabel as nib\n",
    "import mne\n",
    "from mne.io import read_raw_snirf\n",
    "import mne.io.snirf\n",
    "from snirf import Snirf\n",
    "import h5py\n",
    "\n",
    "mne.viz.set_3d_backend(\"notebook\")\n",
    "\n",
    "base_dir = '/Users/lukechang/Dropbox/Kernel'"
   ]
  },
  {
   "cell_type": "markdown",
   "id": "323b24c5-a0f9-4261-891d-d0ab3c517c50",
   "metadata": {},
   "source": [
    "## Analyze NIFTI Reconstruction with nltools\n",
    "\n",
    "To speed up loading data, we save a resampled version of the data. Alternatively, we could load it in the original 4 x 4 x 4 space like we do using nibabel below.\n",
    "\n",
    "The nifti reconstructed data has been trimmed to 1 sec before start experiment and 1 sec after experiment end.\n",
    "\n",
    "We are seeing large scaling differences across regions, we are z-scoring data for now, but that means we are losing absolute HbO concentrations"
   ]
  },
  {
   "cell_type": "code",
   "execution_count": null,
   "id": "3141ef74-ca9f-4db2-93b5-3d919c2a57c2",
   "metadata": {},
   "outputs": [],
   "source": [
    "\n",
    "# metadata = {'subject':'S001', 'task_name':'FingerTapping', 'task_id':'6f5cbac'}\n",
    "metadata = {'subject':'S002', 'task_name':'FingerTapping', 'task_id':'387249d'}\n",
    "# metadata = {'subject':'S004', 'task_name':'FingerTapping', 'task_id':'8f8a587'}\n",
    "\n",
    "# data_nifti = Brain_Data(os.path.join(base_dir, 'Data', 'FingerTapping',  f'Test_{metadata[\"subject\"]}_{metadata[\"task_id\"]}_HbO.nii.gz') )\n",
    "# data_nifti.write(os.path.join(base_dir, 'Data', 'FingerTapping',  f'Test_{metadata[\"subject\"]}_{metadata[\"task_id\"]}_HbO_resampled.nii.gz'))\n",
    "\n",
    "data_nifti = Brain_Data(os.path.join(base_dir, 'Data', 'FingerTapping',  f'Test_{metadata[\"subject\"]}_{metadata[\"task_id\"]}_HbO_resampled.nii.gz') )\n",
    "data_nifti = data_nifti.standardize(method='zscore')\n",
    "toffset =  nib.load(os.path.join(base_dir, 'Data', 'FingerTapping',  f'Test_{metadata[\"subject\"]}_{metadata[\"task_id\"]}_HbO.nii.gz')).header['toffset']\n",
    "n_tr = len(data_nifti)\n",
    "\n",
    "mask = Brain_Data('/Users/lukechang/Dropbox/TV_fMRI/Masks/k50_2mm.nii.gz')\n",
    "mask_x = expand_mask(mask)\n",
    "\n",
    "(mask_x[26] + mask_x[47]).plot()\n",
    "plt.show()"
   ]
  },
  {
   "cell_type": "markdown",
   "id": "058c0e24-9ef6-4a1a-8208-351db18e72d0",
   "metadata": {},
   "source": [
    "### Create Design_Matrix"
   ]
  },
  {
   "cell_type": "code",
   "execution_count": null,
   "id": "9760898a-cb94-49f2-a0cd-2187365b9314",
   "metadata": {},
   "outputs": [],
   "source": [
    "events = pd.read_csv(os.path.join(base_dir, 'Data', task, f'Test_{metadata[\"subject\"]}_{metadata[\"task_id\"]}_task_events.tsv'), sep='\\t')\n",
    "events['timestamp_adjusted'] = events['timestamp'] - toffset\n",
    "events['block_type'].fillna('rest', inplace=True)\n",
    "dm = onsets_to_dm(events[['timestamp_adjusted','duration','block_type']].rename(columns={'timestamp_adjusted':'Onset','duration':'Duration','block_type':'Stim'}), sampling_freq=1.0, run_length=len(data_nifti)).drop(columns='rest')\n",
    "\n",
    "# Generate Plot\n",
    "f,a = plt.subplots(1, figsize=(12,4))\n",
    "\n",
    "left_motor = data_nifti.extract_roi(mask_x[26])\n",
    "a.plot(left_motor, color='navy')\n",
    "right_motor = data_nifti.extract_roi(mask_x[47])\n",
    "a.plot(right_motor, color='red')\n",
    "\n",
    "# Add colored backgrounds for each integer\n",
    "colors={'right':'pink', 'left':'skyblue', 'rest':'snow'}\n",
    "for i,row in dm.iterrows():\n",
    "    if row['right'] == 1:\n",
    "        a.axvspan(i, i+1, facecolor=colors['right'], alpha=0.3)\n",
    "    elif row['left'] == 1:\n",
    "        a.axvspan(i, i+1, facecolor=colors['left'], alpha=0.3)\n",
    "    else:\n",
    "        a.axvspan(i, i+1, facecolor=colors['rest'], alpha=0.3)\n",
    "\n",
    "a.set_xlabel('Time (sec)', size=18)\n",
    "a.set_ylabel('Avg HbO', size=18)\n",
    "legend_elements = [\n",
    "    Patch(facecolor=colors['right'], alpha=0.3, label='Right'),\n",
    "    Patch(facecolor=colors['left'], alpha=0.3, label='Left')\n",
    "]\n",
    "a.legend(handles=legend_elements, title='Color Regions', loc='center left', bbox_to_anchor=(1, 0.5))\n",
    "a.set_title(f\"{metadata['subject']} {metadata['task_name']}\", size=18)\n",
    "plt.savefig(os.path.join(base_dir, 'Figures', metadata['task_name'], f\"{metadata['subject']}_{metadata['task_name']}_AverageSomatomotorActivity_Experiment.png\"), dpi=150)\n",
    "plt.show()\n"
   ]
  },
  {
   "cell_type": "markdown",
   "id": "f929bc20-273d-4771-98f7-0717b88a9628",
   "metadata": {},
   "source": [
    "### Run Regression"
   ]
  },
  {
   "cell_type": "markdown",
   "id": "e0cf4a21-d71c-4cbd-9395-8d9373830059",
   "metadata": {},
   "source": [
    "#### Run using nltools 2 x 2 x 2 resampling"
   ]
  },
  {
   "cell_type": "code",
   "execution_count": null,
   "id": "0349f986-52a9-4f89-bfd5-94093d042734",
   "metadata": {},
   "outputs": [],
   "source": [
    "data_nifti.X = dm.convolve().add_dct_basis(duration=100).add_poly(0)\n",
    "stats_output = data_nifti.regress()\n",
    "\n",
    "left_v_right = stats_output['beta'][data_nifti.X.columns.str.contains('left')] - stats_output['beta'][data_nifti.X.columns.str.contains('right')]\n",
    "left_v_right.write(os.path.join(base_dir, 'Analyses', metadata['task_name'], f\"{metadata['subject']}_{metadata['task_name']}_LeftVRight_nltools.nii.gz\"))\n",
    "\n",
    "left_v_right.plot(view='glass')\n",
    "plt.show()\n",
    "plt.savefig(os.path.join(base_dir, 'Figures', metadata['task_name'], f\"{metadata['subject']}_{metadata['task_name']}_LeftVRight_nltools.png\"), dpi=150)\n"
   ]
  },
  {
   "cell_type": "markdown",
   "id": "48d41839-dae8-4ce4-a5df-ed2cefc61def",
   "metadata": {},
   "source": [
    "#### Run using nibabel 4 x 4 x 4 original sampling"
   ]
  },
  {
   "cell_type": "code",
   "execution_count": null,
   "id": "4fda6caf-b30f-406a-aa18-3da6d0c07aed",
   "metadata": {},
   "outputs": [],
   "source": [
    "# Load Data using Nibabel\n",
    "data_nib =  nib.load(os.path.join(base_dir, 'Data', 'FingerTapping',  f'Test_{metadata[\"subject\"]}_{metadata[\"task_id\"]}_HbO.nii.gz') )\n",
    "dat_nib = data_nib.get_fdata()\n",
    "# dat_nib[data_nib==0] = np.nan\n",
    "\n",
    "# Run vectorized regression at each voxel\n",
    "dm_nib = dm.convolve().add_dct_basis(duration=100).add_poly(0)\n",
    "flattened_dat = dat_nib.reshape(-1, dat_nib.shape[-1])\n",
    "flattened_dat = ((flattened_dat.T - np.nanmean(flattened_dat, axis=1))/ np.nanstd(flattened_dat, axis=1)).T # z-score\n",
    "b,se,t,p,df,res = regress(dm_nib, flattened_dat.T)\n",
    "lvr = b[dm_nib.columns.str.contains('left'),:] - b[dm_nib.columns.str.contains('right'), :]\n",
    "lvr = nib.Nifti1Image(lvr.reshape(dat_nib.shape[:-1]), affine=data_nib.affine)\n",
    "nib.save(lvr, os.path.join(base_dir, 'Analyses', metadata['task_name'], f\"{metadata['subject']}_{metadata['task_name']}_LeftVRight_nibabel.nii.gz\"))\n",
    "\n",
    "# Plot glass brain\n",
    "plot_glass_brain(lvr, cmap='RdBu_r')\n",
    "plt.savefig(os.path.join(base_dir, 'Figures', metadata['task_name'], f\"{metadata['subject']}_{metadata['task_name']}_LeftVRight_nibabel.png\"), dpi=150)\n",
    "plt.show()\n",
    "\n",
    "view_img_on_surf(lvr)\n"
   ]
  },
  {
   "cell_type": "markdown",
   "id": "c0dae9f7-16f0-4730-8431-4127de7fbed9",
   "metadata": {},
   "source": [
    "### Create Peristimulus Plot"
   ]
  },
  {
   "cell_type": "code",
   "execution_count": null,
   "id": "1a6312eb-d42d-423e-bc5b-a9a00054ab07",
   "metadata": {},
   "outputs": [],
   "source": [
    "left_blocks = {}\n",
    "right_blocks = {}\n",
    "for c in dm_block:\n",
    "    left_blocks[c] = left_motor[dm_block[c]==1]\n",
    "    right_blocks[c] = right_motor[dm_block[c]==1]\n",
    "shortest_block = np.min([left_blocks[x].shape for x in left_blocks])\n",
    "left_motor_blocks = pd.DataFrame({x:left_blocks[x][:shortest_block] for x in left_blocks})\n",
    "right_motor_blocks = pd.DataFrame({x:right_blocks[x][:shortest_block] for x in right_blocks})\n",
    "left_motor_blocks['Region'] = 'Left Somatomotor'\n",
    "right_motor_blocks['Region'] = 'Right Somatomotor'\n",
    "left_motor_blocks['Time'] = left_motor_blocks.index\n",
    "right_motor_blocks['Time'] = right_motor_blocks.index\n",
    "blocks = pd.concat([left_motor_blocks, right_motor_blocks], axis=0)\n",
    "blocks = blocks.melt(id_vars=['Region', 'Time'], var_name='Block', value_name='HbO')\n",
    "blocks['Condition'] = [x.split('_')[0] for x in blocks['Block']]\n",
    "\n",
    "f,a = plt.subplots(ncols=2, figsize=(12,5), sharey=True, sharex=True)\n",
    "sns.lineplot(data=blocks.query('Condition==\"left\"'), x='Time', y='HbO', hue='Region', ax=a[0])\n",
    "a[0].set_title('Left Tapping', size=18)\n",
    "sns.lineplot(data=blocks.query('Condition==\"right\"'), x='Time', y='HbO', hue='Region', ax=a[1])\n",
    "a[1].set_title('Right Tapping', size=18)\n",
    "plt.savefig(os.path.join(base_dir, 'Figures', metadata['task_name'], f\"{metadata['subject']}_{metadata['task_name']}_AverageSomatomotorActivity_Block.png\"), dpi=150)\n",
    "blocks.to_csv(os.path.join(base_dir, 'Figures', metadata['task_name'], f\"{metadata['subject']}_{metadata['task_name']}_SomatomotorActivity_Block.csv\"), index=False)\n",
    "\n",
    "plt.show()"
   ]
  },
  {
   "cell_type": "code",
   "execution_count": null,
   "id": "12872244-0faa-46fb-8945-efe9260c88de",
   "metadata": {},
   "outputs": [],
   "source": []
  }
 ],
 "metadata": {
  "kernelspec": {
   "display_name": "Python 3 (ipykernel)",
   "language": "python",
   "name": "python3"
  },
  "language_info": {
   "codemirror_mode": {
    "name": "ipython",
    "version": 3
   },
   "file_extension": ".py",
   "mimetype": "text/x-python",
   "name": "python",
   "nbconvert_exporter": "python",
   "pygments_lexer": "ipython3",
   "version": "3.11.9"
  }
 },
 "nbformat": 4,
 "nbformat_minor": 5
}
